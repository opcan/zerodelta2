{
 "cells": [
  {
   "cell_type": "markdown",
   "metadata": {},
   "source": [
    "# \"Je Bitcoin ESG investice?\"\n",
    "> \"Energetická náročnost těžby Bitcoinu\"\n",
    "\n",
    "- toc: false\n",
    "- branch: master\n",
    "- badges: false\n",
    "- comments: true\n",
    "- categories: [ESG, Bitcoin]\n",
    "- image: https://github.com/opcan/zerodelta2/raw/master/images/btcgreen.jpg\n",
    "- hide: false\n",
    "- search_exclude: false\n",
    "- metadata_key1: metadata_value1\n",
    "- metadata_key2: metadata_value2\n",
    "- show_tags: true"
   ]
  },
  {
   "cell_type": "markdown",
   "metadata": {},
   "source": [
    "![](https://github.com/opcan/zerodelta2/raw/master/images/btcgreen.jpg)"
   ]
  },
  {
   "cell_type": "markdown",
   "metadata": {},
   "source": [
    "Dost často dostávám otázky ohledně Bitcoinu a co si myslím o investici do něj. Jedna z nedávných otázek byla, jestli lze investici do Bitcoinu považovat za takzvanou ESG investici v souvislosti s dopady na životní prostředí. Pojďme se společně podívat na několik faktů, týkajících se právě tohoto tématu.\n",
    "\n",
    "I když se o Bitcoin nezajímáte, možná jste slyšeli, že těžba Bitcoinů je energeticky náročná, a právě proto není dobrá pro životní prostředí. Možná jste dokonce slyšeli, že těžba Bitcoinů v současné době spotřebovává více energie než celé Švédsko. Další zajímavou skutečností je, že jediná Bitcoinová transakce spotřebuje stejné množství energie jako průměrná americká domácnost za měsíc, což je asi milionkrát více energie, než spotřebuje jedna klasická VISA transakce, a to v době, kdy ze všech stran slyšíme, že musíme zoufale snížit emise uhlíku. \n",
    "\n",
    "Mělo by však být jasné, že ne každý souhlasí s tím, že těžba Bitcoinů a jejich  \n",
    "technologie blockchain jsou špatné pro životní prostředí. Někteří z lidí, kteří se odvolávají k nové zelené budoucnosti, jsou také nadšenci do kryptoměn, včetně Elona Muska. To \n",
    "zmátlo některé z jeho environmentalistických příznivců, když v březnu Elon musk na Twitteru napsal, že lze nyní koupit automobil Tesla pomocí Bitcoinu."
   ]
  },
  {
   "cell_type": "markdown",
   "metadata": {
    "scrolled": true
   },
   "source": [
    "![](https://github.com/opcan/zerodelta2/raw/master/images/tweet1.png)"
   ]
  },
  {
   "cell_type": "markdown",
   "metadata": {},
   "source": [
    "O měsíc a půl později vidíme, že Elon Musk najednou dospěl k názoru, že těžba Bitcoinu není ekologicky zcela prospěšná a nákupy automobilů Tesla za Bitcoin byly pozastaveny. "
   ]
  },
  {
   "cell_type": "markdown",
   "metadata": {},
   "source": [
    "![](https://github.com/opcan/zerodelta2/raw/master/images/tweet3.jpg)"
   ]
  },
  {
   "cell_type": "markdown",
   "metadata": {},
   "source": [
    "V obou případech cena Bitcoinu reagovala na výše uvedené oznámení poměrně významnými pohyby. Šlo o manipulaci trhu? Odpověď na tuhle otázku nechám na čtenářích a jejich důvtipu.\n",
    "\n",
    "Zpět k původní otázce o dopadech těžby Bitcoinu na životní prostředí. Těžaři kryptoměn jsou poměrně flexibilní a mají tendenci hledat nejlevnější zdroje elektrické energie a z tohoto důvodu se přibližně 70 % těžby Bitcoinů dnes odehrává v Číně, kde je elektrická energie nejlevnější. Rusko je také významným centrem těžby Bitcoinů, stejně jako Irán, kde je elektřina dotována vládou. Jsou tyto země na špici v oblasti ekologických technologií? Ne. Okolo 80 % elektřiny v Číně pochází ze spalování uhlí. Jak si dokážete představit, energetické sítě v Rusku a Íránu nejsou o moc ekologičtější. Navzdory pozoruhodným snahám Íránu o zahájení výroby jaderné energie.\n",
    "\n",
    "Výše uvedené argumenty by měly stačit k tomu, aby si čtenář udělal názor na to, jestli je investice do Bitcoinu v souladu s odpovědným investováním.\n"
   ]
  }
 ],
 "metadata": {
  "kernelspec": {
   "display_name": "Python 3",
   "language": "python",
   "name": "python3"
  },
  "language_info": {
   "codemirror_mode": {
    "name": "ipython",
    "version": 3
   },
   "file_extension": ".py",
   "mimetype": "text/x-python",
   "name": "python",
   "nbconvert_exporter": "python",
   "pygments_lexer": "ipython3",
   "version": "3.7.0"
  }
 },
 "nbformat": 4,
 "nbformat_minor": 2
}
