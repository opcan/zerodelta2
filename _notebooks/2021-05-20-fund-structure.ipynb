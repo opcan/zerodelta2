{
 "cells": [
  {
   "cell_type": "markdown",
   "metadata": {},
   "source": [
    "# \"Komanditní společnost jak struktura alternativního fondu\"\n",
    ">\"Struktura fondu\"\n",
    "\n",
    "- toc: false\n",
    "- branch: master\n",
    "- badges: false\n",
    "- comments: true\n",
    "- categories: [struktura fondu, komanditní společnost, Limited Partnership, daně, daňová transparentnost]\n",
    "- image: https://github.com/opcan/zerodelta2/raw/master/images/fund.jpeg\n",
    "- hide: false\n",
    "- search_exclude: false\n",
    "- metadata_key1: Limited Partnership, struktura fondu \n",
    "- metadata_key2: Quantical Capital Management\n",
    "- show_tags: true"
   ]
  },
  {
   "cell_type": "markdown",
   "metadata": {},
   "source": [
    "![](https://github.com/opcan/zerodelta2/raw/master/images/fund.jpeg)"
   ]
  },
  {
   "cell_type": "markdown",
   "metadata": {},
   "source": [
    "V minulém [článku](https://0delta.cz/fund%20domicile/rozd%C4%9Blen%C3%AD%20fond%C5%AF/strategie%20fond%C5%AF/2021/04/27/fondy-dil-prvni.html) jsem lehce naznačil, s jakými druhy fondů se investor může setkat, jak se dělí podle regulace a strategie. V dnešním článku se budu věnovat struktuře alternativních fondů. Je celá řada struktur a každý stát si do jisté míry může upravit evropskou směrnici AIFMD podle svých potřeb. V článku se budu soustředit především na fond, který je strukturovaný jako komanditní společnost. \n",
    "\n",
    "__Celá legální entita se skládá většinou ze dvou společností:__\n",
    "\n",
    "## 1 ) Správce fondu \n",
    "Správce fondu(u komanditních společností je to komplementář neboli General Partner (GP)). Tato firma bývá většinou s omezeným ručením – PLC, LLC, obdoba naší s.r.o. Správce fondu, jak už sám název napovídá, je odpovědný za hospodaření fondu včetně zvolení vhodné strategie. K tomu může využívat externí nebo interní portfolio manažery. Správce si za správu fondu bere odměnu ve formě poplatků. Správce je zdaněný podle legislativy země, ve které se nachází jako každá jiná firma. Správce může spravovat několik fondů, pokud se tak rozhodne nebo může vytvořit separátní portfolia v jednom fondu – jedno může být třeba nemovitostní a druhé dluhopisové atd. Zkušený administrátor fondu by měl bez problému rozúčtovat jednotlivé investory a jejich podíly bez ohledu na to, zdali investovali do několika pod-fondů nebo do více portfolií jednoho fondu.\n",
    " \n",
    "## 2) Fond\n",
    "Fond může nabývat celou řadu právních forem. Jedna z nejčastějších forem bývá určitá forma komanditní společnosti (Limited Partnership) kvůli flexibilitě, kterou tato struktura nabízí. U komanditní společnosti se investor stane partnerem komandistou (Limited Partnerem) ve firmě, je tedy součástí firmy, má omezená práva, ale i závazky, proto Limited Partner. V prostředí investičních fondů se velice často setkáte se zkratkami LP, což je vlastně investor a GP je správce fondu. Vztah mezi správcem a investorem je definován ve společenské smlouvě, která je v tomto případě velice flexibilní a nechává dostatek prostoru zohlednit veškeré podmínky podle potřeby.\n",
    "Pokud jde o zdanění fondu, tak je pro investory samozřejmě velice výhodné, pokud fond má nižší sazbu daně nebo v ideálním případě není zdaněný ve své domovské zemi vůbec. Z těchto důvodů bývají fondy zakládány v zemích, které toto umožňují. Některé z nich jsem uváděl v tomto [článku](https://0delta.cz/fund%20domicile/rozd%C4%9Blen%C3%AD%20fond%C5%AF/strategie%20fond%C5%AF/2021/04/27/fondy-dil-prvni.html). Investor tedy platí daň pouze v zemi svojí rezidence, jakmile se rozhodne vykoupit svůj podíl a správce fondu mu převede prostředky na běžný účet. V případě českého práva lze samozřejmě uplatnit takzvaný časový test, který říká, že pokud investor drží podíl ve fondu déle než tři roky, jsou jeho zisky i v české republice osvobozeny od daně. V praxi to tedy znamená, že pokud se investor rozhodne investovat do fondu v jurisdikci, kde je fond osvobozený od daně a nechá svůj podíl ve fondu déle než tři roky, tak je jako investor v české republice od daně osvobozený. Jinými slovy, celý zisk z investice zůstane investorovi, protože se zisky nedaní v zemi, kde má fond sídlo a byl překonán časový test v Čechách. Z hlediska daní je tedy proto vždy vhodné před investicí do fondu ověřit, jestli je fond ve své domovině zdaněný a kolika procenty a kvůli časovému testu nechat investici pracovat alespoň tři roky a tím se zcela a naprosto legálně vyhnout zdanění zisků.\n",
    " \n",
    " \n",
    " \n",
    " \n",
    "## Komanditní společnost, trocha teorie:\n",
    "Komanditní společnost se skládá z komplementáře (GP) a komandisty (LP). Komplementář obvykle ručí celým svým majetkem a komandista ručí do výše svého vkladu. Pokud to vztáhneme na investiční fond, který je strukturovaný jako určitá forma komanditní společnosti, tak komplementář je správce fondu a komandista je investor. V roli správce je společnost s ručením omezeným a investoři mohou být jak jednotlivci, tak i firmy, kteří se stávají partnery.\n",
    " \n",
    "## Kdo je administrátor fondu a co dělá?\n",
    "V předchozí části jsem lehce naznačil něco o administrátorovi fondu. Kdo je tedy administrátor fondu?  Administrátor u otevřeného fondu (fond, který přijímá investory průběžně, například každý měsíc) je neodmyslitelná součást celého procesu. Administrátor je třetí strana, která zajišťuje:\n",
    "* účetnictví fondu,\n",
    "* oceňování (výpočet NAV pro jednotlivé podíly)\n",
    "* Compliance (AML/ KYC)\n",
    "* interní audit\n",
    "* vydávání a odkupování podílů Fondu\n",
    "* reporting\n",
    "* přístup k reportům pod přihlašovacími údaji pro investory\n",
    "\n",
    "V příštím článku bych se rád věnoval některým pojmům, se kterými se investor může setkat.\n"
   ]
  }
 ],
 "metadata": {
  "kernelspec": {
   "display_name": "Python 3",
   "language": "python",
   "name": "python3"
  },
  "language_info": {
   "codemirror_mode": {
    "name": "ipython",
    "version": 3
   },
   "file_extension": ".py",
   "mimetype": "text/x-python",
   "name": "python",
   "nbconvert_exporter": "python",
   "pygments_lexer": "ipython3",
   "version": "3.7.0"
  }
 },
 "nbformat": 4,
 "nbformat_minor": 2
}
