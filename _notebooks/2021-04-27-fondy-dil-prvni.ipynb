{
 "cells": [
  {
   "cell_type": "markdown",
   "metadata": {},
   "source": [
    "# \"Druhy investičních fondů\"\n",
    "> \"Rozdělení investičních fondů podle regulace a strategie\"\n",
    "\n",
    "- toc: false\n",
    "- branch: master\n",
    "- badges: false\n",
    "- comments: true\n",
    "- categories: [fund domicile, rozdělení fondů, strategie fondů]\n",
    "- image: https://github.com/opcan/zerodelta2/raw/master/images/kompas.jpeg\n",
    "- hide: false\n",
    "- search_exclude: true\n",
    "- metadata_key1: metadata_value1\n",
    "- metadata_key2: metadata_value2\n",
    "- show_tags: true"
   ]
  },
  {
   "cell_type": "markdown",
   "metadata": {},
   "source": [
    "![](https://github.com/opcan/zerodelta/raw/master/images/kompas.jpeg)"
   ]
  },
  {
   "attachments": {},
   "cell_type": "markdown",
   "metadata": {},
   "source": [
    "V článku bych se rád zaměřil na základní funkci kolektivního investování a základní rozdělení investičních fondů podle míry regulace a strategií.\n",
    "\n",
    "## Co je vlastně fond a jak funguje \n",
    "   Fond je forma kolektivního investování kdy jednotliví investoři vkládají svoje prostředky na účet fondu. Správce fondu tedy nespravuje oddělené účty jednotlivých investorů, ale investuje se takzvaně kolektivně.\n",
    "Jak by se tedy fondy daly rozdělit? Podle mého názoru jedno z hlavních kritérií je míra regulace a dále pak je to strategie fondu. Retailové fondy jsou mnohem více regulované než fondy alternativní.\n",
    "\n",
    "## Retailové fondy (Mutual Funds) \n",
    "Retailové fondy jsou takzvané otevřené podílové, fondy regulované evropskou směrnicí __UCITS__ _(Undertakings for Collective Investment in Transferable Securities Directives)_. Ty veřejně obchodované známé jako __ETF’s__ a ty neveřejně obchodované Vám nabídne Váš __finanční poradce__, který jich má v platformě celou řadu. Regulace se samozřejmě vztahuje i na strategie, které tyto fondy mohou použít. Nejčastěji jsou to investice do akcií a/ nebo dluhopisů. Tyto fondy __nesmí přímo investovat do derivátů__. Existují i retailové fondy, které investují do nemovitostí, ale zde jsou zase určitá omezení, a to asi hlavně ve výši alokace.\n",
    "\n",
    "## Alternativní fondy (AIF – Alternative Investment Funds) \n",
    "Alternativní fondy nejsou tak moc svázány regulací, pokud jde o strategii. Rozhoduje spíše __velikost kapitálu__ ve správě (AUM – Asset Under Managemet). Investoři mohou investovat do __menších fondů__, které mohou spravovat do 100 mil euro s pákou (500 mil euro bez páky), které jsou __minimálně regulovány__ (stačí registrace a není nutný přímý dohled regulátora). Dále jsou to licencované fondy (SICAV, SICAR, ICAV, RAIF atd.) kde nejsou žádná omezení, pokud jde o AUM, ale jsou zde jiné __regulatorní požadavky__. Regulatorní požadavky jsou rámcově definovány evropskou směrnicí AIFMD, ale každá členská země si tyto požadavky dodatečně přizpůsobuje. V tomto článku bych se chtěl více věnovat právě alternativním fondům.\n",
    "\n",
    "### Venture Capital Funds\n",
    "Pokud bychom chtěli Alternativní fondy rozdělit podle strategií tak bychom začali asi velice známým investováním do start upů, takzvané __fondy rizikového kapitálu neboli Venture Capital Funds__, užívaná zkratka VC. Pokud jde o strukturu těchto fondů tak je zde regulace podle AIFMD a tyto fondy jsou většinou nelicencované (malé), často bývají uzavřené, to znamená že „naberou“ kapitál na začátku a v průběhu existence už nepřijímají další investory, existují pouze po nějakou určitou dobu, například 10 let a potom se vyplatí zisky a fond se zruší. Mohou být i otevřené, jednoznačně záleží na správci fondu a zvolené strategii. Zaměřují se na nejrůznější segmenty trhu, ve kterých vidí příležitosti. Pokud jde o likviditu tak kapitál v těchto fondech je obvykle „zamčený“ na delší dobu, protože strategie zkrátka není moc likvidní. Můj kamarád strategii těchto fondů přirovnal ke strategii _„long out of the money call option“_. Ten, kdo rozumí opcím, tak ví, že levnou opci mimo peníze můžete zhodnotit i o tisíce procent, ale také můžete o investici přijít, protože vyprší bezcenná a pravděpodobnost je zde silně proti vám. Existence těchto fondů má být společensky prospěšná, protože pomáhá rozvoji firem a tím rozvoji společnosti pokroku a zaměstnanosti atd. Struktura malých fondů byla vytvořeny primárně za účelem VC fondů.\n",
    "   \n",
    "### Private Equity Funds\n",
    "Další ze skupiny alternativních fondů jsou __fondy rozvojového kapitálu__ takzvané. __Private Equity__ neboli PE. Tyto fondy už asi nejsou tak zajímavé a vzrušující jako VC fondy. Zatímco VC fondy investují v do firem v rané fázi tak PE investují do firem, které fázi rozjezdu mají už za sebou a __chtějí nabrat rozvojový kapitál, aby mohly růst__. Tyto fondy disponují většinou mnohem větším kapitálem a zdaleka necílí na tak atraktivní zhodnocení jako VC. Investice do PE je tedy investicí konzervativnější v porovnáním s investicí do VC.\n",
    "\n",
    "___\n",
    "\n",
    "Konečným cílem VC & PE je prodej neboli „exit“ investice do společností za výnos, který převyšuje zaplacenou cenu. Jedná se zpravidla o prodej společnosti strategickému nabyvateli prostřednictvím fúze nebo akvizice (M&A) nebo o takzvaný sekundární výkup (SBO).\n",
    "___\n",
    "\n",
    "\n",
    "### Hedge Funds\n",
    "V neposlední řadě jsou zde hedžové fondy (Hedge Funds) neboli HF’s. Tyto fondy jsou většinou opředeny jakýmsi tajemstvím, kdy jejich správce málokdy otevřeně hovoří o strategiích, které používá. Pokud jde o strategie tak je zde opravdu veliké množství možností, co tyto fondy mohou dělat. Jsou __většinou otevřené__ a pokud jde o regulaci, tak asi záleží na zakladateli, jakou strukturu a jurisdikci zvolí. \n",
    "Nejvíce oblíbené jsou jednoznačně __offshore jurisdikce__. Nejvíce HF je registrováno na Kajmanských ostrovech. Proč tomu tak je? Fondy zde mají obrovskou tradici a legislativa je zde již za ty roky velice přizpůsobená a v neposlední řadě fondy zde mají dobré zázemí, protože je zde celá řada administrátorů, auditorů, firem poskytující právnické služby, takže veškerý servis, který fondy potřebují ke vzniku a k existenci. Proces založení je obvykle otázka pouze několika týdnů a místní právníci ví přesně, co je nutné. Jsou investoři, kteří preferují Kajmany a do jiných fondů neinvestují. Další jurisdikce jsou například Britské Panenské ostrovy, Guernsey, Jersey. __Fondy v těchto zemích jsou většinou osvobozeny od daně__ a jsou zde i poměrně __nižší daně ze zisků pro správce__ fondu. Tato skutečnost samozřejmě hraje také významnou roli.\n",
    "Pokud jde o __EU jurisdikce__, tak i zde je několik zemí, které si upravují evropskou legislativu AIFMD tak aby vytvořily příznivé prostředí pro kolektivní investování. Jde například o __Irsko__, které v posledních letech udělalo pokrok, pokud jde o poskytovatele servisů pro fondy a legislativu. Daně jsou zde velice příznivě nastaveny. Dále je to __Lucembursko a UK__. Z těch méně tradičních zemí můžeme jmenovat například __Kypr, Maltu__ a poměrně nedávno i __Estonsko__, které zavedlo příznivé legislativní prostředí pro alternativní fondy. Výběr je tedy poměrně široký a spíše jde o to co zakladatel chce. __Daňová transparentnost__ je velice důležitý parametr. Dále pokud budu chtít oslovovat US investory tak struktura: Správce fondu – Delaware, Fond – Kajmany je asi něco, co bude mít dobrý zvuk u US investorů. Pokud půjde o Evropské investory tak Irsko nebo Lucembursko asi nebude úplně špatná volba. Pokud půjde o český trh tak pravděpodobně SICAV, ale myslím si, že pro zahraniční profesionální investory český SICAV nebude asi to pravé ořechové. Fond podle __§ 15 ZISIF__ bych asi úplně nedoručoval. Ale je to opravdu velice individuální.\n"
   ]
  }
 ],
 "metadata": {
  "kernelspec": {
   "display_name": "Python 3",
   "language": "python",
   "name": "python3"
  },
  "language_info": {
   "codemirror_mode": {
    "name": "ipython",
    "version": 3
   },
   "file_extension": ".py",
   "mimetype": "text/x-python",
   "name": "python",
   "nbconvert_exporter": "python",
   "pygments_lexer": "ipython3",
   "version": "3.7.0"
  }
 },
 "nbformat": 4,
 "nbformat_minor": 2
}
